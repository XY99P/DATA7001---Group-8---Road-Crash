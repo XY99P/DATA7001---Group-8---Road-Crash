{
 "cells": [
  {
   "cell_type": "code",
   "execution_count": null,
   "id": "f5a9617a",
   "metadata": {},
   "outputs": [],
   "source": [
    "casualties = read.csv('Casualties.csv')\n",
    "crash = read.csv('Crash.csv')\n",
    "datatime = read.csv('DateTime.csv')\n",
    "description = read.csv('Description.csv')\n",
    "location = read.csv('Location.csv')\n",
    "vehicles = read.csv('Vehicles.csv')"
   ]
  },
  {
   "cell_type": "code",
   "execution_count": null,
   "id": "792d37a9",
   "metadata": {},
   "outputs": [],
   "source": [
    "require(data.table)\n",
    "setDT(casualties); setDT(crash) # convert to data.tables by reference\n",
    "z1 = casualties[crash, mult = \"first\", on = \"casualties_id\", nomatch=0L]\n",
    "\n",
    "require(data.table)\n",
    "setDT(datatime); setDT(z1) # convert to data.tables by reference\n",
    "z2 = datatime[z1, mult = \"first\", on = \"date_time_id\", nomatch=0L]\n",
    "\n",
    "require(data.table)\n",
    "setDT(description); setDT(z2) # convert to data.tables by reference\n",
    "z3 = description[z2, mult = \"first\", on = \"description_id\", nomatch=0L]\n",
    "\n",
    "require(data.table)\n",
    "setDT(location); setDT(z3) # convert to data.tables by reference\n",
    "z4 = location[z3, mult = \"first\", on = \"lat_long\", nomatch=0L]\n",
    "\n",
    "require(data.table)\n",
    "setDT(vehicles); setDT(z4) # convert to data.tables by reference\n",
    "z5 = vehicles[z4, mult = \"first\", on = \"vehicles_id\", nomatch=0L]\n",
    "\n",
    "# Change speed limit to number   \n",
    "# WA and ACT not include speed_limit\n",
    "z5[z5$speed_limit=='0 - 50 km/h',]$speed_limit = 50\n",
    "z5[z5$speed_limit=='60 km/h',]$speed_limit=60\n",
    "z5[z5$speed_limit=='70 km/h',]$speed_limit=70\n",
    "z5[z5$speed_limit=='80 - 90 km/h',]$speed_limit=90\n",
    "z5[z5$speed_limit=='100 - 110 km/h',]$speed_limit=110\n",
    "z5[z5$state == 'NZ',]$speed_limit = as.integer(z5[z5$state == 'NZ',]$speed_limit)\n",
    "# change chr to int\n",
    "z5[,'speed_limit'] = as.integer(z5[,'speed_limit'])\n",
    "\n",
    "# change severity to number damage levels\n",
    "#property_damage = 1\n",
    "#minor_injury = 2\n",
    "#serious_injury = 3\n",
    "#fatality = 4 \n",
    "z5[z5$severity=='property_damage',]$severity = 1\n",
    "z5[z5$severity=='minor_injury',]$severity = 2\n",
    "z5[z5$severity=='serious_injury',]$severity = 3\n",
    "z5[z5$severity=='fatality',]$severity = 4\n",
    "z5$severity = as.integer(z5$severity)\n",
    "\n",
    "# midblock T/F to 1/0\n",
    "z5[z5$midblock == 'True',]$midblock = 1\n",
    "z5[z5$midblock == 'False',]$midblock = 0\n",
    "\n",
    "# intersection \n",
    "z5[z5$intersection== 'True',]$intersection = 1\n",
    "z5[z5$intersection == 'False',]$intersection = 0\n",
    "\n",
    "# road_sealed\n",
    "z5[z5$road_sealed== 'True',]$road_sealed = 1\n",
    "z5[z5$road_sealed == 'False',]$road_sealed = 0\n",
    "\n",
    "# road_wet\n",
    "z5[z5$road_wet== 'True',]$road_wet = 1\n",
    "z5[z5$road_wet == 'False',]$road_wet = 0"
   ]
  },
  {
   "cell_type": "code",
   "execution_count": null,
   "id": "566a272d",
   "metadata": {},
   "outputs": [],
   "source": [
    "# write to a csv file\n",
    "# write.csv(z5,'merge_dataset.csv')\n",
    "\n",
    "# read the file \n",
    "# x = read.csv('merge_dataset.csv')"
   ]
  },
  {
   "cell_type": "code",
   "execution_count": null,
   "id": "a1ca58fe",
   "metadata": {},
   "outputs": [],
   "source": [
    "colnames(x)"
   ]
  },
  {
   "cell_type": "code",
   "execution_count": null,
   "id": "3b3c0b07",
   "metadata": {},
   "outputs": [],
   "source": [
    "# for each state\n",
    "sa = x[x$state == 'SA',]\n",
    "qld = x[x$state == 'QLD',]\n",
    "vic = x[x$state == 'VIC',]\n",
    "wa = x[x$state == 'WA',]\n",
    "act = x[x$state == 'ACT',]\n",
    "nz = x[x$state == 'NZ',]"
   ]
  },
  {
   "cell_type": "code",
   "execution_count": null,
   "id": "b865a5e1",
   "metadata": {},
   "outputs": [],
   "source": [
    "# 4 states data\n",
    "td = rbind(sa,qld,vic,nz)"
   ]
  },
  {
   "cell_type": "code",
   "execution_count": null,
   "id": "3feee28b",
   "metadata": {},
   "outputs": [],
   "source": [
    "###################\n",
    "\n",
    "xgboost model\n",
    "\n",
    "###################"
   ]
  },
  {
   "cell_type": "code",
   "execution_count": null,
   "id": "6739e273",
   "metadata": {},
   "outputs": [],
   "source": [
    "library(Matrix)\n",
    "library(xgboost)\n",
    "\n",
    "list1 = c('severity', 'speed_limit','day_of_week','hour','midblock',\n",
    "          'intersection','road_sealed','road_wet','animals','car_sedan'\n",
    "          ,'car_utility','car_van','car_4x4','car_station_wagon','motor_cycle','truck_small',\n",
    "         'truck_large','bus','taxi','bicycle','scooter','pedestrian','inanimate','train','tram',\n",
    "         'vehicle_other')"
   ]
  },
  {
   "cell_type": "code",
   "execution_count": null,
   "id": "aa0292d3",
   "metadata": {},
   "outputs": [],
   "source": [
    "rows = round(nrow(td)*0.7)\n",
    "train <- td[1:rows,list1]\n",
    "test <- td[rows:nrow(td),list1]\n",
    "\n",
    "traindata1 <- data.matrix(train[,2:26])\n",
    "traindata2 <- Matrix(traindata1,sparse = T)\n",
    "traindata3 <- train[,1]\n",
    "traindata4 <- list(data = traindata2,label = traindata3)\n",
    "\n",
    "testdata1 <- data.matrix(test[,2:26])\n",
    "testdata2 <- Matrix(testdata1,sparse = T)\n",
    "testdata3 <- test[,1]\n",
    "testdata4 <- list(data = testdata2,label = testdata3)\n",
    "\n",
    "dtrain <- xgb.DMatrix(data = traindata4$data,label = traindata4$label)\n",
    "dtest <- xgb.DMatrix(data = testdata4$data,label = testdata4$label)"
   ]
  },
  {
   "cell_type": "code",
   "execution_count": null,
   "id": "d61a7123",
   "metadata": {},
   "outputs": [],
   "source": [
    "bst = xgboost(data =dtrain,eta = 0.6,max_depth = 30, nrounds = 30,\n",
    "             objective = \"reg:linear\")"
   ]
  },
  {
   "cell_type": "code",
   "execution_count": null,
   "id": "a2802fea",
   "metadata": {},
   "outputs": [],
   "source": [
    "pre = round(predict(bst,dtest))\n",
    "table(pre)"
   ]
  }
 ],
 "metadata": {
  "kernelspec": {
   "display_name": "R",
   "language": "R",
   "name": "ir"
  },
  "language_info": {
   "codemirror_mode": "r",
   "file_extension": ".r",
   "mimetype": "text/x-r-source",
   "name": "R",
   "pygments_lexer": "r",
   "version": "4.1.1"
  },
  "toc": {
   "base_numbering": 1,
   "nav_menu": {},
   "number_sections": true,
   "sideBar": true,
   "skip_h1_title": false,
   "title_cell": "Table of Contents",
   "title_sidebar": "Contents",
   "toc_cell": false,
   "toc_position": {},
   "toc_section_display": true,
   "toc_window_display": false
  }
 },
 "nbformat": 4,
 "nbformat_minor": 5
}
